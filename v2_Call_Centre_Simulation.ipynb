{
  "nbformat": 4,
  "nbformat_minor": 0,
  "metadata": {
    "colab": {
      "provenance": []
    },
    "kernelspec": {
      "name": "python3",
      "display_name": "Python 3"
    },
    "language_info": {
      "name": "python"
    }
  },
  "cells": [
    {
      "cell_type": "markdown",
      "source": [
        "### SYS5110 Simulation Project ###\n",
        "\n",
        "v2\n",
        "\n"
      ],
      "metadata": {
        "id": "VgxkwCbckjLP"
      }
    },
    {
      "cell_type": "code",
      "source": [
        "# Basic Parameters\n",
        "num_queues = 1    # single queue. UNUSED\n",
        "num_calls = 1000  # Number of calls to simulate\n",
        "num_servers = 10  # Number of agents (servers) answering calls"
      ],
      "metadata": {
        "id": "slvaQJ0ZCDF7"
      },
      "execution_count": 3,
      "outputs": []
    },
    {
      "cell_type": "code",
      "source": [
        "# Generate inter-arrival times for all 1000 calls fitted on distribution\n",
        "import numpy as np\n",
        "from scipy.stats import expon\n",
        "\n",
        "# diurate hourly call distribution (with low-volume and peak times)\n",
        "def generate_interarrival_times(hourly_calls, minutes_per_hour=60):\n",
        "    \"\"\"\n",
        "    Generate inter-arrival times for a given hourly call volume distribution.\n",
        "\n",
        "    Parameters:\n",
        "        hourly_calls: List[int] - Number of calls per hour (6 AM to 10 PM).\n",
        "        seconds_per_hour: int - Number of seconds in an hour (default: 3600).\n",
        "\n",
        "    Returns:\n",
        "        List[float] - Inter-arrival times in seconds for all calls.\n",
        "    \"\"\"\n",
        "    inter_arrival_times = []\n",
        "    for calls in hourly_calls:\n",
        "        rate = calls / minutes_per_hour if calls > 0 else 0\n",
        "        if rate > 0:\n",
        "            # Generate inter-arrival times for the number of calls in each hour\n",
        "            times = expon(scale=1 / rate).rvs(size=calls)\n",
        "            inter_arrival_times.extend(times)\n",
        "    return inter_arrival_times\n",
        "\n",
        "# Hourly call preset discrete distribution of 1000 calls over 16 hours of working time\n",
        "hourly_calls = [50, 50, 50, 50, 50, 50, 87, 87, 88, 88, 100, 100, 50, 50, 25, 25]\n",
        "data_inter_arrival_times = generate_interarrival_times(hourly_calls)\n",
        "\n",
        "# Print a few sample inter-arrival times\n",
        "print(\"Sample Inter-Arrival Times:\", data_inter_arrival_times[:10])\n",
        "print(\"Total Number of Inter-Arrival Times Generated:\", len(data_inter_arrival_times))\n"
      ],
      "metadata": {
        "id": "oajA0ohXxm1j",
        "colab": {
          "base_uri": "https://localhost:8080/"
        },
        "outputId": "ea9f6067-bb2c-4c3e-fcf9-1d02135bd55e"
      },
      "execution_count": 4,
      "outputs": [
        {
          "output_type": "stream",
          "name": "stdout",
          "text": [
            "Sample Inter-Arrival Times: [3.4954926483787294, 1.0607536276743244, 0.1503576654457768, 1.453918157369572, 0.1621530413785702, 0.7367112653422104, 1.0082950222195863, 1.9437103265301883, 1.4530496844221743, 0.9819908593343094]\n",
            "Total Number of Inter-Arrival Times Generated: 1000\n"
          ]
        }
      ]
    },
    {
      "cell_type": "code",
      "source": [
        "from scipy.stats import gamma\n",
        "\n",
        "def generate_waiting_times(num_samples, alpha=1.99, beta=2.79):\n",
        "    \"\"\"\n",
        "    Generate a list of random waiting times based on a gamma distribution.\n",
        "\n",
        "    Parameters:\n",
        "    - num_samples (int): Number of waiting times to generate.\n",
        "    - alpha (float): Shape parameter of the gamma distribution (default is 1.99).\n",
        "    - beta (float): Scale parameter of the gamma distribution (default is 2.79).\n",
        "\n",
        "    Returns:\n",
        "    - list: Randomly generated waiting times.\n",
        "    \"\"\"\n",
        "    return gamma.rvs(a=alpha, scale=beta, size=num_samples).tolist()\n",
        "\n",
        "# Generate array of waiting times for 1000 calls in the day\n",
        "data_max_waiting_times = generate_waiting_times(num_calls)\n",
        "#print(waiting_times)\n",
        "\n",
        "# Print a few sample max waiting times\n",
        "print(\"Sample Max. Waiting Times (in minutes):\", data_max_waiting_times[:10])\n",
        "print(\"Total Number of Max. Waiting Times Generated:\", len(data_max_waiting_times))"
      ],
      "metadata": {
        "colab": {
          "base_uri": "https://localhost:8080/"
        },
        "id": "jsU8ClsI_ork",
        "outputId": "d35cebde-2bdc-46a2-aa21-07bcc244d27b"
      },
      "execution_count": 5,
      "outputs": [
        {
          "output_type": "stream",
          "name": "stdout",
          "text": [
            "Sample Max. Waiting Times (in minutes): [4.7355590701232835, 15.258238990645138, 1.4346671546426353, 4.782545823536581, 3.13612117591631, 1.8016485094485126, 3.9880498505531534, 2.445863405746075, 5.146474249140359, 2.3731955969310627]\n",
            "Total Number of Max. Waiting Times Generated: 1000\n"
          ]
        }
      ]
    },
    {
      "cell_type": "code",
      "source": [
        "# Custom functions for generating service time for one call\n",
        "def generate_service_time():\n",
        "    return np.random.exponential(1 / 5) * 50  # Service time ~ Exponential(5)"
      ],
      "metadata": {
        "id": "HhCfMWuXHNum"
      },
      "execution_count": 6,
      "outputs": []
    },
    {
      "cell_type": "code",
      "execution_count": 7,
      "metadata": {
        "id": "aNSFhPYhU2fK"
      },
      "outputs": [],
      "source": [
        "# Main program\n",
        "import numpy as np\n",
        "import pandas as pd\n",
        "from scipy.stats import expon\n",
        "\n",
        "\n",
        "# Initialize variables with pre-existing data:\n",
        "arrival_times = []  # List to store arrival times\n",
        "service_times = []  # List to store service times\n",
        "max_call_waiting_times = []   # List to store max waiting times before abandonning calls\n",
        "\n",
        "# Initialize variables with values calculated from simulation\n",
        "waiting_times = []  # List to store waiting times\n",
        "waiting_times_with_abandon = []   # List to store waiting times including those who abandonned\n",
        "waiting_times_abandon_only = []   # List to store waiting times of abandonned calls\n",
        "departure_times = []  # List to store departure times\n",
        "answered_call_count = 0 # Number of calls successfully picked up and answered\n",
        "abandon_call_count = 0  # Number of calls abandoned due to exceeding max. waiting time\n",
        "\n",
        "# output model measurement (sensitivity analysis) metrics:\n",
        "server_utilization = [0] * num_servers  # Track total service time handled by each server\n",
        "\n",
        "server_end_times = [0] * num_servers  # Track when each server will be free\n",
        "\n",
        "# set interarrival times of 1000 calls from preset data\n",
        "#interarrival_times = []\n",
        "#interarrival_times = generate_interarrival_times(hourly_calls, seconds_per_hour=3600, samples_per_hour=100)\n",
        "interarrival_times = data_inter_arrival_times\n",
        "\n",
        "# set max. waiting times of 1000 calls from preset data\n",
        "max_waiting_times = data_max_waiting_times\n",
        "\n",
        "# Simulate calls\n",
        "for i in range(num_calls):\n",
        "    # Generate arrival time; first arrival time set to 0\n",
        "    if i == 0:\n",
        "        arrival_time = 0\n",
        "    else:\n",
        "        interarrival_time = interarrival_times[i]\n",
        "        arrival_time = arrival_times[-1] + interarrival_time\n",
        "    #arrival_times.append(arrival_time)\n",
        "\n",
        "    # Generate service time (call duration)\n",
        "    service_time = generate_service_time()\n",
        "    #service_times.append(service_time)\n",
        "\n",
        "    # Set max. waiting time\n",
        "    max_waiting_time = max_waiting_times[i]\n",
        "\n",
        "    # Assign the earliest available server\n",
        "    next_available_time = min(server_end_times)\n",
        "    server_index = server_end_times.index(next_available_time)\n",
        "    if arrival_time >= next_available_time:\n",
        "        # No waiting, server is free\n",
        "        waiting_time = 0\n",
        "        start_service_time = arrival_time\n",
        "    else:\n",
        "        # Waiting required\n",
        "        waiting_time = next_available_time - arrival_time\n",
        "        ### Abandon call if waiting time exceeds maximum waiting time; continue for loop\n",
        "        if waiting_time > max_waiting_time:\n",
        "          waiting_times_with_abandon.append(waiting_time)\n",
        "          abandon_call_count+=1\n",
        "          continue\n",
        "\n",
        "        start_service_time = next_available_time\n",
        "\n",
        "    # append to lists if call not abandoned\n",
        "    arrival_times.append(arrival_time)\n",
        "    service_times.append(service_time)\n",
        "\n",
        "    waiting_times.append(waiting_time)\n",
        "    waiting_times_with_abandon.append(waiting_time)\n",
        "\n",
        "\n",
        "    # Calculate departure time\n",
        "    departure_time = start_service_time + service_time\n",
        "    departure_times.append(departure_time)\n",
        "\n",
        "    # Update server end time and utilization\n",
        "    server_end_times[server_index] = departure_time\n",
        "    server_utilization[server_index] += service_time\n",
        "\n",
        "# Calculate total number of calls answered\n",
        "answered_call_count = num_calls - abandon_call_count\n",
        "\n",
        "# Calculate total simulation time\n",
        "total_simulation_time = max(departure_times)\n",
        "\n",
        "# Calculate utilization rates for each server\n",
        "server_utilization_rates = [\n",
        "    (util / total_simulation_time) * 100 for util in server_utilization\n",
        "]\n"
      ]
    },
    {
      "cell_type": "markdown",
      "source": [
        "Output section\n",
        "\n",
        "Average waiting time (including abandoned calls)\n",
        "\n",
        "Average waiting time (excluding abandoned calls)\n",
        "\n",
        "Average server utilization\n",
        "\n",
        "Abandoned calls\n",
        "\n",
        "Abandoned calls rate\n",
        "\n",
        "Graph distribution for abandoned calls throughout the day(?)\n",
        "\n",
        "\n"
      ],
      "metadata": {
        "id": "oza0lRKSgysT"
      }
    },
    {
      "cell_type": "code",
      "source": [
        "\n",
        "# Create a DataFrame to display results\n",
        "df = pd.DataFrame({\n",
        "    #\"Call\": range(1, num_calls + 1),\n",
        "    \"Call\": range(1, answered_call_count + 1),\n",
        "    \"Arrival Time (min)\": arrival_times,\n",
        "    \"Waiting Time (min)\": waiting_times,\n",
        "    \"Service Time (min)\": service_times,\n",
        "    \"Departure Time (min)\": departure_times,\n",
        "})\n",
        "\n",
        "# Display the results\n",
        "print(\"Call Data:\")\n",
        "print(df)\n",
        "\n",
        "# Display server utilization rates\n",
        "print(\"\\nServer Utilization Rates:\")\n",
        "for i, rate in enumerate(server_utilization_rates):\n",
        "    print(f\"Server {i + 1}: {rate:.2f}%\")\n",
        "\n",
        "\n"
      ],
      "metadata": {
        "colab": {
          "base_uri": "https://localhost:8080/"
        },
        "id": "wucFaYQhgz5a",
        "outputId": "4c15a528-f31e-4779-f1bb-06ddfc0ff050"
      },
      "execution_count": 8,
      "outputs": [
        {
          "output_type": "stream",
          "name": "stdout",
          "text": [
            "Call Data:\n",
            "     Call  Arrival Time (min)  Waiting Time (min)  Service Time (min)  \\\n",
            "0       1            0.000000                 0.0            9.708168   \n",
            "1       2            1.060754                 0.0            0.740576   \n",
            "2       3            1.211111                 0.0           15.025817   \n",
            "3       4            2.665029                 0.0            8.260678   \n",
            "4       5            2.827182                 0.0            1.527670   \n",
            "..    ...                 ...                 ...                 ...   \n",
            "271   272          356.292376                 0.0           12.521739   \n",
            "272   273          363.550288                 0.0           16.588074   \n",
            "273   274          365.222561                 0.0            9.658106   \n",
            "274   275          367.400418                 0.0           20.415727   \n",
            "275   276          367.826553                 0.0            8.102009   \n",
            "\n",
            "     Departure Time (min)  \n",
            "0                9.708168  \n",
            "1                1.801329  \n",
            "2               16.236928  \n",
            "3               10.925707  \n",
            "4                4.354853  \n",
            "..                    ...  \n",
            "271            368.814115  \n",
            "272            380.138361  \n",
            "273            374.880667  \n",
            "274            387.816145  \n",
            "275            375.928561  \n",
            "\n",
            "[276 rows x 5 columns]\n",
            "\n",
            "Server Utilization Rates:\n",
            "Server 1: 80.33%\n",
            "Server 2: 76.64%\n",
            "Server 3: 84.26%\n",
            "Server 4: 80.68%\n",
            "Server 5: 75.94%\n",
            "Server 6: 78.20%\n",
            "Server 7: 76.80%\n",
            "Server 8: 80.52%\n",
            "Server 9: 80.11%\n",
            "Server 10: 76.63%\n"
          ]
        }
      ]
    },
    {
      "cell_type": "code",
      "source": [
        "# Metrics Calculation\n",
        "\n",
        "# Average waiting time (including abandoned calls)\n",
        "average_waiting_time_including_abandon = (\n",
        "    sum(waiting_times_with_abandon) / len(waiting_times_with_abandon)\n",
        "    if waiting_times_with_abandon else 0\n",
        ")\n",
        "\n",
        "# Average waiting time (excluding abandoned calls)\n",
        "average_waiting_time_excluding_abandon = (\n",
        "    sum(waiting_times) / len(waiting_times) if waiting_times else 0\n",
        ")\n",
        "\n",
        "# Average server utilization\n",
        "average_server_utilization = sum(server_utilization_rates) / num_servers\n",
        "\n",
        "# Abandoned calls\n",
        "abandoned_calls = abandon_call_count\n",
        "\n",
        "# Abandoned calls rate\n",
        "abandoned_calls_rate = (abandon_call_count / num_calls) * 100\n",
        "\n",
        "# Display Metrics\n",
        "print(\"Simulation Metrics:\")\n",
        "print(f\"1. Average Waiting Time (Including Abandoned Calls): {average_waiting_time_including_abandon:.2f} minutes\")\n",
        "print(f\"2. Average Waiting Time (Excluding Abandoned Calls): {average_waiting_time_excluding_abandon:.2f} minutes\")\n",
        "print(f\"3. Average Server Utilization: {average_server_utilization:.2f}%\")\n",
        "print(f\"4. Number of Abandoned Calls: {abandoned_calls}\")\n",
        "print(f\"5. Abandoned Calls Rate: {abandoned_calls_rate:.2f}%\")\n"
      ],
      "metadata": {
        "colab": {
          "base_uri": "https://localhost:8080/"
        },
        "id": "Hk5AKlyOMhSZ",
        "outputId": "59dd91ca-f6ca-481e-b826-ad7192005d7a"
      },
      "execution_count": 9,
      "outputs": [
        {
          "output_type": "stream",
          "name": "stdout",
          "text": [
            "Simulation Metrics:\n",
            "1. Average Waiting Time (Including Abandoned Calls): 10.38 minutes\n",
            "2. Average Waiting Time (Excluding Abandoned Calls): 2.19 minutes\n",
            "3. Average Server Utilization: 79.01%\n",
            "4. Number of Abandoned Calls: 724\n",
            "5. Abandoned Calls Rate: 72.40%\n"
          ]
        }
      ]
    },
    {
      "cell_type": "code",
      "source": [
        "######"
      ],
      "metadata": {
        "id": "vfNPUxHbPUeJ"
      },
      "execution_count": 10,
      "outputs": []
    },
    {
      "cell_type": "markdown",
      "source": [
        "### Usage ###\n",
        "\n",
        "You can change the 10* coefficient in the generate_service_time() function to scale the service time length distribution. (e.g. multiply by 10 to increase the average service time length by 10 times)\n",
        "\n",
        "If num_calls is changed (from default 1000),\n",
        "\n",
        "\n",
        "### Scenarios TODO: ###\n",
        "\n",
        "1. Additional agent(s)/server for entire duration\n",
        "2. Improved agency working efficiency, i.e. lower service time\n",
        "3. Efficient resource allocation, i.e.\n",
        "\n",
        "### Output TODO: ###\n",
        "\n",
        "Graphs requested:\n",
        "  Interarrival time distribution graph (Gamma CDF)\n",
        "  Service time distribution graph\n",
        "\n",
        "  Waiting time scatterplot for all callers\n",
        "\n",
        "\n"
      ],
      "metadata": {
        "id": "yEjzBdkfPU94"
      }
    },
    {
      "cell_type": "code",
      "source": [],
      "metadata": {
        "id": "zsi9wz0iSR-f"
      },
      "execution_count": 10,
      "outputs": []
    }
  ]
}