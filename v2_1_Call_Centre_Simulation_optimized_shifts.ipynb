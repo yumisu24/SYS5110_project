{
  "nbformat": 4,
  "nbformat_minor": 0,
  "metadata": {
    "colab": {
      "provenance": []
    },
    "kernelspec": {
      "name": "python3",
      "display_name": "Python 3"
    },
    "language_info": {
      "name": "python"
    }
  },
  "cells": [
    {
      "cell_type": "markdown",
      "source": [
        "## **SYS5110 Simulation Project** ##\n",
        "\n",
        "#### v2.1  ####\n",
        "Scenario 1: \\\\\n",
        "Optimize agent shifts - more agents working during \"peak hours\", reduced agents working during \"low-volume\" hours. \\\\\n",
        "Achieved by dividing the simulation into time period segments (e.g. 4hr, 8hr, 4hr.) and running the modified simulate_calls() function with the appropriate number of servers each time. \\\\\n",
        "\n",
        "\\\\\n",
        "\n",
        "Current setup and change from default: \\\\\n",
        "Default scenario has 10 agents throughout all 16 hours of work time (6:00am-10:00pm, a.k.a. 0600-2200). \\\\\n",
        "New scenario setup as follows: \\\\\n",
        "* From 0600-1000, 5 agents working\n",
        "* From 1000-1800, 15 agents working\n",
        "* From 1800-2200. 5 agents working\n",
        "\n",
        "\\\\\n",
        "This change corresponds to the call centre allocating work hours for employee shifts by typical demand - a move intended to reduce call abandon rates and waiting times without increasing the overall resources required. \\\\\n",
        "\n",
        "\n",
        "\n",
        "\n"
      ],
      "metadata": {
        "id": "VgxkwCbckjLP"
      }
    },
    {
      "cell_type": "markdown",
      "source": [
        "## **Code section: Initial parameters & Function definitions** ##\n"
      ],
      "metadata": {
        "id": "iml7W1etTJmx"
      }
    },
    {
      "cell_type": "code",
      "source": [
        "# Basic Parameters\n",
        "num_queues = 1    # single queue. UNUSED\n",
        "num_calls = 1000  # Number of calls to simulate\n",
        "num_servers = 15  # Number of agents (servers) answering calls\n",
        "\n",
        "## MODIFIED PARAMETERS\n",
        "num_servers_s1 = 5    # hours 0600-1000\n",
        "num_servers_s2 = 15   # hours 1000-1800\n",
        "num_servers_s3 = 5    # hours 1800-2200\n",
        "\n",
        "num_calls_s1 = 200\n",
        "num_calls_s2 = 650\n",
        "num_calls_s3 = 150\n",
        "\n",
        "starting_time_s1 = 0    #let 0600 be the first minute\n",
        "starting_time_s2 = 240  # 1000 is 240 minutes after 0600\n",
        "starting_time_s3 = 720  # 1800 is 720 minutes after 0600"
      ],
      "metadata": {
        "id": "slvaQJ0ZCDF7"
      },
      "execution_count": 846,
      "outputs": []
    },
    {
      "cell_type": "code",
      "source": [
        "# Generate inter-arrival times for all 1000 calls fitted on distribution\n",
        "import numpy as np\n",
        "from scipy.stats import expon\n",
        "\n",
        "# diurate hourly call distribution (with low-volume and peak times)\n",
        "def generate_interarrival_times(hourly_calls, minutes_per_hour=60):\n",
        "    \"\"\"\n",
        "    Generate inter-arrival times for a given hourly call volume distribution.\n",
        "\n",
        "    Parameters:\n",
        "        hourly_calls: List[int] - Number of calls per hour (6 AM to 10 PM).\n",
        "        seconds_per_hour: int - Number of seconds in an hour (default: 3600).\n",
        "\n",
        "    Returns:\n",
        "        List[float] - Inter-arrival times in seconds for all calls.\n",
        "    \"\"\"\n",
        "    inter_arrival_times = []\n",
        "    for calls in hourly_calls:\n",
        "        rate = calls / minutes_per_hour if calls > 0 else 0\n",
        "        if rate > 0:\n",
        "            # Generate inter-arrival times for the number of calls in each hour\n",
        "            times = expon(scale=1 / rate).rvs(size=calls)\n",
        "            inter_arrival_times.extend(times)\n",
        "    return inter_arrival_times\n",
        "\n",
        "# Hourly call preset discrete distribution of 1000 calls over 16 hours of working time\n",
        "hourly_calls = [50, 50, 50, 50, 50, 50, 87, 87, 88, 88, 100, 100, 50, 50, 25, 25]\n",
        "data_inter_arrival_times = generate_interarrival_times(hourly_calls)\n",
        "\n",
        "# Print a few sample inter-arrival times\n",
        "print(\"Sample Inter-Arrival Times:\", data_inter_arrival_times[:10])\n",
        "print(\"Total Number of Inter-Arrival Times Generated:\", len(data_inter_arrival_times))\n"
      ],
      "metadata": {
        "id": "oajA0ohXxm1j",
        "colab": {
          "base_uri": "https://localhost:8080/"
        },
        "outputId": "84f8fd96-faf7-48b7-aaae-4e7a2c41a954"
      },
      "execution_count": 847,
      "outputs": [
        {
          "output_type": "stream",
          "name": "stdout",
          "text": [
            "Sample Inter-Arrival Times: [1.1251953848545, 0.8466762489241949, 0.12151881354290085, 0.4676322935063407, 2.5666731768815594, 2.8817952105108953, 1.9517559542655873, 0.29551690488030097, 3.283819813339327, 2.9671378547083926]\n",
            "Total Number of Inter-Arrival Times Generated: 1000\n"
          ]
        }
      ]
    },
    {
      "cell_type": "code",
      "source": [
        "from scipy.stats import gamma\n",
        "\n",
        "def generate_waiting_times(num_samples, alpha=1.99, beta=2.79):\n",
        "    \"\"\"\n",
        "    Generate a list of nuum_samples random waiting times based on a gamma distribution.\n",
        "\n",
        "    Parameters:\n",
        "    - num_samples (int): Number of waiting times to generate.\n",
        "    - alpha (float): Shape parameter of the gamma distribution (default is 1.99).\n",
        "    - beta (float): Scale parameter of the gamma distribution (default is 2.79).\n",
        "\n",
        "    Returns:\n",
        "    - list: Randomly generated waiting times.\n",
        "    \"\"\"\n",
        "    return gamma.rvs(a=alpha, scale=beta, size=num_samples).tolist()\n",
        "\n",
        "# Generate array of waiting times for 1000 calls in the day\n",
        "data_max_waiting_times = generate_waiting_times(num_calls)\n",
        "#print(waiting_times)\n",
        "\n",
        "# Print a few sample max waiting times\n",
        "print(\"Sample Max. Waiting Times (in minutes):\", data_max_waiting_times[:10])\n",
        "print(\"Total Number of Max. Waiting Times Generated:\", len(data_max_waiting_times))"
      ],
      "metadata": {
        "colab": {
          "base_uri": "https://localhost:8080/"
        },
        "id": "jsU8ClsI_ork",
        "outputId": "207251bb-bf55-433c-fd5b-07e230fcc7b3"
      },
      "execution_count": 848,
      "outputs": [
        {
          "output_type": "stream",
          "name": "stdout",
          "text": [
            "Sample Max. Waiting Times (in minutes): [4.045620972321481, 3.6729431842547657, 8.111219913345328, 5.037582886547091, 0.6298920550243977, 5.674306815020151, 1.6352301439302959, 2.2746284179780942, 8.000844250102244, 2.724405564256396]\n",
            "Total Number of Max. Waiting Times Generated: 1000\n"
          ]
        }
      ]
    },
    {
      "cell_type": "code",
      "source": [
        "# Custom functions for generating service time for one call\n",
        "def generate_service_time():\n",
        "    return np.random.exponential(1 / 5) * 30  # Service time ~ Exponential(5)"
      ],
      "metadata": {
        "id": "HhCfMWuXHNum"
      },
      "execution_count": 849,
      "outputs": []
    },
    {
      "cell_type": "code",
      "source": [
        "def simulate_calls(\n",
        "    num_calls,\n",
        "    starting_time,\n",
        "    interarrival_times,\n",
        "    max_waiting_times,\n",
        "    generate_service_time,\n",
        "    num_servers\n",
        "):\n",
        "    \"\"\"\n",
        "    Simulates call handling in a multi-server queue system.\n",
        "\n",
        "    Parameters:\n",
        "        num_calls (int): Number of calls to simulate.\n",
        "        interarrival_times (list): List of inter-arrival times for each call.\n",
        "        max_waiting_times (list): List of maximum waiting times for each call before abandonment.\n",
        "        generate_service_time (function): Function to generate service times for calls.\n",
        "        num_servers (int): Number of servers available.\n",
        "\n",
        "    Returns:\n",
        "        dict: Results of the simulation including arrival times, service times, waiting times,\n",
        "              departure times, abandoned calls, server utilizations, etc.\n",
        "    \"\"\"\n",
        "    # Initialize variables\n",
        "    arrival_times = []\n",
        "    service_times = []\n",
        "    waiting_times = []\n",
        "    waiting_times_with_abandon = []\n",
        "    departure_times = []\n",
        "    abandon_call_count = 0\n",
        "\n",
        "    server_utilization = [0] * num_servers\n",
        "    server_end_times = [0] * num_servers\n",
        "\n",
        "    next_available_time = -1\n",
        "\n",
        "    # Simulate calls\n",
        "    for i in range(num_calls):\n",
        "        # Generate arrival time; first arrival time set to 0\n",
        "        if i == 0:\n",
        "            arrival_time = starting_time\n",
        "        else:\n",
        "            interarrival_time = interarrival_times[i]\n",
        "            arrival_time = arrival_times[-1] + interarrival_time\n",
        "\n",
        "        # Generate service time (call duration)\n",
        "        service_time = generate_service_time()\n",
        "\n",
        "        # Set max. waiting time\n",
        "        max_waiting_time = max_waiting_times[i]\n",
        "\n",
        "        # Assign the earliest available server\n",
        "        next_available_time = min(server_end_times)\n",
        "        server_index = server_end_times.index(next_available_time)\n",
        "        if arrival_time >= next_available_time:\n",
        "            # No waiting, server is free\n",
        "            waiting_time = 0\n",
        "            start_service_time = arrival_time\n",
        "        else:\n",
        "            # Waiting required\n",
        "            waiting_time = next_available_time - arrival_time\n",
        "            # Abandon call if waiting time exceeds maximum waiting time\n",
        "            if waiting_time > max_waiting_time:\n",
        "                waiting_times_with_abandon.append(waiting_time)\n",
        "                abandon_call_count += 1\n",
        "                continue\n",
        "\n",
        "            start_service_time = next_available_time\n",
        "\n",
        "        # Append to lists if call not abandoned\n",
        "        arrival_times.append(arrival_time)\n",
        "        service_times.append(service_time)\n",
        "        waiting_times.append(waiting_time)\n",
        "        waiting_times_with_abandon.append(waiting_time)\n",
        "\n",
        "        # Calculate departure time\n",
        "        departure_time = start_service_time + service_time\n",
        "        departure_times.append(departure_time)\n",
        "\n",
        "        # Update server end time and utilization\n",
        "        server_end_times[server_index] = departure_time\n",
        "        server_utilization[server_index] += service_time\n",
        "\n",
        "    # Return simulation results as a dictionary\n",
        "    return {\n",
        "        \"arrival_times\": arrival_times,\n",
        "        \"service_times\": service_times,\n",
        "        \"waiting_times\": waiting_times,\n",
        "        \"waiting_times_with_abandon\": waiting_times_with_abandon,\n",
        "        \"departure_times\": departure_times,\n",
        "        \"abandon_call_count\": abandon_call_count,\n",
        "        \"server_utilization\": server_utilization,\n",
        "        \"next_available_time\": next_available_time,\n",
        "    }\n"
      ],
      "metadata": {
        "id": "uA7l43hjSway"
      },
      "execution_count": 850,
      "outputs": []
    },
    {
      "cell_type": "markdown",
      "source": [
        "## **Code section: Main program** ##\n"
      ],
      "metadata": {
        "id": "nqIxk63YTU_r"
      }
    },
    {
      "cell_type": "code",
      "execution_count": 851,
      "metadata": {
        "id": "aNSFhPYhU2fK"
      },
      "outputs": [],
      "source": [
        "# Main program\n",
        "import numpy as np\n",
        "import pandas as pd\n",
        "from scipy.stats import expon\n",
        "import copy\n",
        "\n",
        "\n",
        "# Initialize variables with pre-existing data:\n",
        "arrival_times = []  # List to store arrival times\n",
        "service_times = []  # List to store service times\n",
        "max_waiting_times = []   # List to store max waiting times before abandonning calls\n",
        "\n",
        "# Initialize variables with values calculated from simulation\n",
        "waiting_times = []  # List to store waiting times\n",
        "waiting_times_with_abandon = []   # List to store waiting times including those who abandonned\n",
        "waiting_times_abandon_only = []   # List to store waiting times of abandonned calls\n",
        "departure_times = []  # List to store departure times\n",
        "answered_call_count = 0 # Number of calls successfully picked up and answered\n",
        "abandon_call_count = 0  # Number of calls abandoned due to exceeding max. waiting time\n",
        "\n",
        "abandon_call_count_s1 = 0 # Number of calls abandoned in s1\n",
        "abandon_call_count_s2 = 0 # Number of calls abandoned in s2\n",
        "abandon_call_count_s3 = 0 # Number of calls abandoned in s3\n",
        "\n",
        "\n",
        "# output model measurement (sensitivity analysis) metrics:\n",
        "server_utilization = [0] * num_servers  # Track total service time handled by each server\n",
        "server_end_times = [0] * num_servers    # Track when each server will be free; only used for function\n",
        "### MODIFIED FOR SCENARIO: different server_utilization value for each time period\n",
        "\n",
        "\n",
        "# set interarrival times of 1000 calls from preset data\n",
        "interarrival_times = data_inter_arrival_times\n",
        "# set max. waiting times of 1000 calls from preset data\n",
        "max_waiting_times = data_max_waiting_times\n",
        "\n"
      ]
    },
    {
      "cell_type": "code",
      "source": [
        "# Simulate calls for segment 1: 0600-1000; first 200 calls with 5 servers\n",
        "\n",
        "call_simulation_results1 = simulate_calls(\n",
        "    num_calls_s1,\n",
        "    starting_time_s1,\n",
        "    interarrival_times,\n",
        "    max_waiting_times,\n",
        "    generate_service_time,\n",
        "    num_servers_s1\n",
        ")\n",
        "\n",
        "\n",
        "arrival_times = np.append(arrival_times, call_simulation_results1[\"arrival_times\"])\n",
        "service_times = np.append(service_times, call_simulation_results1[\"service_times\"])\n",
        "waiting_times = np.append(waiting_times, call_simulation_results1[\"waiting_times\"])\n",
        "waiting_times_with_abandon = np.append(waiting_times_with_abandon,\n",
        "                                            call_simulation_results1[\"waiting_times_with_abandon\"])\n",
        "departure_times = np.append(departure_times, call_simulation_results1[\"departure_times\"])\n",
        "\n",
        "# Record total simulation time for s1 calls\n",
        "total_simulation_time_s1 = max(departure_times)\n",
        "\n",
        "abandon_call_count += call_simulation_results1[\"abandon_call_count\"]\n",
        "abandon_call_count_s1 += call_simulation_results1[\"abandon_call_count\"]\n",
        "server_utilization_s1 = call_simulation_results1[\"server_utilization\"]\n"
      ],
      "metadata": {
        "id": "CK7zxgQNVP4s"
      },
      "execution_count": 852,
      "outputs": []
    },
    {
      "cell_type": "code",
      "source": [
        "# Simulate calls for segment 2: 1000-1800; After the first 200 calls, 650 calls with 15 servers\n",
        "\n",
        "# update starting time from the immediate next_available_time from end of s1 simulation\n",
        "starting_time_s2 = call_simulation_results1[\"next_available_time\"]\n",
        "\n",
        "call_simulation_results2 = simulate_calls(\n",
        "    num_calls_s2,\n",
        "    starting_time_s2,\n",
        "    interarrival_times[200:],\n",
        "    max_waiting_times[200:],\n",
        "    generate_service_time,\n",
        "    num_servers_s2\n",
        ")\n",
        "\n",
        "\n",
        "arrival_times = np.append(arrival_times, call_simulation_results2[\"arrival_times\"])\n",
        "service_times = np.append(service_times, call_simulation_results2[\"service_times\"])\n",
        "waiting_times = np.append(waiting_times, call_simulation_results2[\"waiting_times\"])\n",
        "waiting_times_with_abandon = np.append(waiting_times_with_abandon,\n",
        "                                            call_simulation_results2[\"waiting_times_with_abandon\"])\n",
        "departure_times = np.append(departure_times, call_simulation_results2[\"departure_times\"])\n",
        "\n",
        "# Record total simulation time for s2 calls\n",
        "total_simulation_time_s2 = max(departure_times) - total_simulation_time_s1\n",
        "\n",
        "abandon_call_count += call_simulation_results2[\"abandon_call_count\"]\n",
        "abandon_call_count_s2 += call_simulation_results2[\"abandon_call_count\"]\n",
        "\n",
        "server_utilization_s2 = call_simulation_results2[\"server_utilization\"]\n"
      ],
      "metadata": {
        "id": "ja3BekvBibgL"
      },
      "execution_count": 853,
      "outputs": []
    },
    {
      "cell_type": "code",
      "source": [
        "# Simulate calls for segment 1: 0600-1000; first 200 calls with 5 servers\n",
        "\n",
        "# update starting time from the immediate next_available_time from end of s3 simulation\n",
        "starting_time_s3 = call_simulation_results2[\"next_available_time\"]\n",
        "\n",
        "call_simulation_results3 = simulate_calls(\n",
        "    num_calls_s3,\n",
        "    starting_time_s3,\n",
        "    interarrival_times[850:],\n",
        "    max_waiting_times[850:],\n",
        "    generate_service_time,\n",
        "    num_servers_s3\n",
        ")\n",
        "\n",
        "\n",
        "arrival_times = np.append(arrival_times, call_simulation_results3[\"arrival_times\"])\n",
        "service_times = np.append(service_times, call_simulation_results3[\"service_times\"])\n",
        "waiting_times = np.append(waiting_times, call_simulation_results3[\"waiting_times\"])\n",
        "waiting_times_with_abandon = np.append(waiting_times_with_abandon,\n",
        "                                            call_simulation_results3[\"waiting_times_with_abandon\"])\n",
        "departure_times = np.append(departure_times, call_simulation_results3[\"departure_times\"])\n",
        "\n",
        "# Record total simulation time for s3 calls\n",
        "total_simulation_time_s3 = max(departure_times) - total_simulation_time_s2\n",
        "\n",
        "abandon_call_count += call_simulation_results3[\"abandon_call_count\"]\n",
        "abandon_call_count_s3 += call_simulation_results3[\"abandon_call_count\"]\n",
        "server_utilization_s3 = call_simulation_results3[\"server_utilization\"]\n"
      ],
      "metadata": {
        "id": "ptIdH6YUjeg-"
      },
      "execution_count": 854,
      "outputs": []
    },
    {
      "cell_type": "code",
      "source": [
        "# Calculate total number of calls answered\n",
        "answered_call_count = num_calls - abandon_call_count\n",
        "\n",
        "# Calculate total number of calls answered\n",
        "answered_call_count_s1 = num_calls_s1 - abandon_call_count_s1\n",
        "\n",
        "# Calculate total number of calls answered\n",
        "answered_call_count_s2 = num_calls_s2 - abandon_call_count_s2\n",
        "\n",
        "# Calculate total number of calls answered\n",
        "answered_call_count_s3 = num_calls_s3 - abandon_call_count_s3\n",
        "\n",
        "# Calculate total simulation time\n",
        "total_simulation_time = max(departure_times)\n",
        "\n",
        "\n",
        "# Calculate utilization rates for each server in s1\n",
        "server_utilization_rates_s1 = [\n",
        "    (util / total_simulation_time_s1) * 100 for util in server_utilization_s1\n",
        "]\n",
        "\n",
        "# Calculate utilization rates for each server in s1\n",
        "server_utilization_rates_s2 = [\n",
        "    (util / total_simulation_time_s2) * 100 for util in server_utilization_s2\n",
        "]\n",
        "\n",
        "# Calculate utilization rates for each server in s1\n",
        "server_utilization_rates_s3 = [\n",
        "    (util / total_simulation_time_s3) * 100 for util in server_utilization_s3\n",
        "]\n",
        "\n",
        "'''\n",
        "# Calculate overall utilization rate for each server for all time\n",
        "sur_s1_weighted = [util * (num_calls_s1 / num_calls) for util in server_utilization_rates_s1]  # weighted 200/1000\n",
        "sur_s2_weighted = [util * (num_calls_s2 / num_calls) for util in server_utilization_rates_s2]  # 650/1000\n",
        "sur_s3_weighted = [util * (num_calls_s3 / num_calls) for util in server_utilization_rates_s3]  # 150/1000\n",
        "\n",
        "avg_server_utilization_rates_overall = (sum(sur_s1_weighted) / num_servers_s1\n",
        "                                    + sum(sur_s2_weighted) / num_servers_s2\n",
        "                                    + sum(sur_s3_weighted) / num_servers_s3)\n",
        "'''"
      ],
      "metadata": {
        "colab": {
          "base_uri": "https://localhost:8080/",
          "height": 88
        },
        "id": "1RhzhJdNRGdK",
        "outputId": "b5f86e0b-a34c-46f1-a5a1-ee7fce030cc8"
      },
      "execution_count": 855,
      "outputs": [
        {
          "output_type": "execute_result",
          "data": {
            "text/plain": [
              "'\\n# Calculate overall utilization rate for each server for all time\\nsur_s1_weighted = [util * (num_calls_s1 / num_calls) for util in server_utilization_rates_s1]  # weighted 200/1000\\nsur_s2_weighted = [util * (num_calls_s2 / num_calls) for util in server_utilization_rates_s2]  # 650/1000\\nsur_s3_weighted = [util * (num_calls_s3 / num_calls) for util in server_utilization_rates_s3]  # 150/1000\\n\\navg_server_utilization_rates_overall = (sum(sur_s1_weighted) / num_servers_s1 \\n                                    + sum(sur_s2_weighted) / num_servers_s2 \\n                                    + sum(sur_s3_weighted) / num_servers_s3)\\n'"
            ],
            "application/vnd.google.colaboratory.intrinsic+json": {
              "type": "string"
            }
          },
          "metadata": {},
          "execution_count": 855
        }
      ]
    },
    {
      "cell_type": "markdown",
      "source": [
        "## **Code section: Output & Model metrics** ##\n",
        "\n",
        "#### *Metrics used:* ####\n",
        "\n",
        "Average waiting time (including abandoned calls)\n",
        "\n",
        "Average waiting time (excluding abandoned calls)\n",
        "\n",
        "Average server utilization\n",
        "\n",
        "Abandoned calls\n",
        "\n",
        "Abandoned calls rate\n",
        "\n",
        "Graph distribution for abandoned calls throughout the day(?)\n",
        "\n",
        "\n"
      ],
      "metadata": {
        "id": "oza0lRKSgysT"
      }
    },
    {
      "cell_type": "code",
      "source": [
        "\n",
        "# Create a DataFrame to display results\n",
        "df = pd.DataFrame({\n",
        "    #\"Call\": range(1, num_calls + 1),\n",
        "    \"Call\": range(1, answered_call_count + 1),\n",
        "    \"Arrival Time (min)\": arrival_times,\n",
        "    \"Waiting Time (min)\": waiting_times,\n",
        "    \"Service Time (min)\": service_times,\n",
        "    \"Departure Time (min)\": departure_times,\n",
        "})\n",
        "\n",
        "# Display the results\n",
        "print(\"Call Data:\")\n",
        "print(df)\n",
        "#print(df.head(20))\n",
        "\n",
        "# Display server utilization rates\n",
        "print(\"\\nS1 Server Utilization Rates:\")\n",
        "for i, rate in enumerate(server_utilization_rates_s1):\n",
        "    print(f\"Server {i + 1}: {rate:.2f}%\")\n",
        "\n",
        "print(\"\\nS2 Server Utilization Rates:\")\n",
        "for i, rate in enumerate(server_utilization_rates_s2):\n",
        "    print(f\"Server {i + 1}: {rate:.2f}%\")\n",
        "\n",
        "print(\"\\nS3 Server Utilization Rates:\")\n",
        "for i, rate in enumerate(server_utilization_rates_s3):\n",
        "    print(f\"Server {i + 1}: {rate:.2f}%\")\n",
        "\n",
        "\n"
      ],
      "metadata": {
        "colab": {
          "base_uri": "https://localhost:8080/"
        },
        "id": "wucFaYQhgz5a",
        "outputId": "5cc21211-a25a-4fad-e2c8-bdc969621b4f"
      },
      "execution_count": 856,
      "outputs": [
        {
          "output_type": "stream",
          "name": "stdout",
          "text": [
            "Call Data:\n",
            "     Call  Arrival Time (min)  Waiting Time (min)  Service Time (min)  \\\n",
            "0       1            0.000000                 0.0            0.503801   \n",
            "1       2            0.846676                 0.0            3.988155   \n",
            "2       3            0.968195                 0.0            0.278633   \n",
            "3       4            1.435827                 0.0            4.768866   \n",
            "4       5            4.002501                 0.0            4.198201   \n",
            "..    ...                 ...                 ...                 ...   \n",
            "847   848          768.349337                 0.0            2.959931   \n",
            "848   849          768.468145                 0.0            0.586280   \n",
            "849   850          772.212255                 0.0            9.442056   \n",
            "850   851          773.552860                 0.0            1.916792   \n",
            "851   852          774.409392                 0.0            3.892441   \n",
            "\n",
            "     Departure Time (min)  \n",
            "0                0.503801  \n",
            "1                4.834831  \n",
            "2                1.246828  \n",
            "3                6.204694  \n",
            "4                8.200701  \n",
            "..                    ...  \n",
            "847            771.309269  \n",
            "848            769.054425  \n",
            "849            781.654310  \n",
            "850            775.469652  \n",
            "851            778.301833  \n",
            "\n",
            "[852 rows x 5 columns]\n",
            "\n",
            "S1 Server Utilization Rates:\n",
            "Server 1: 82.44%\n",
            "Server 2: 79.62%\n",
            "Server 3: 68.15%\n",
            "Server 4: 81.73%\n",
            "Server 5: 82.17%\n",
            "\n",
            "S2 Server Utilization Rates:\n",
            "Server 1: 47.26%\n",
            "Server 2: 57.36%\n",
            "Server 3: 51.31%\n",
            "Server 4: 42.65%\n",
            "Server 5: 48.78%\n",
            "Server 6: 49.02%\n",
            "Server 7: 54.81%\n",
            "Server 8: 57.73%\n",
            "Server 9: 55.84%\n",
            "Server 10: 56.97%\n",
            "Server 11: 59.21%\n",
            "Server 12: 55.84%\n",
            "Server 13: 53.63%\n",
            "Server 14: 49.75%\n",
            "Server 15: 50.49%\n",
            "\n",
            "S3 Server Utilization Rates:\n",
            "Server 1: 40.72%\n",
            "Server 2: 46.37%\n",
            "Server 3: 41.95%\n",
            "Server 4: 46.92%\n",
            "Server 5: 45.05%\n"
          ]
        }
      ]
    },
    {
      "cell_type": "code",
      "source": [
        "# Metrics Calculation\n",
        "\n",
        "# Average waiting time (including abandoned calls)\n",
        "average_waiting_time_including_abandon = (\n",
        "    sum(waiting_times_with_abandon) / len(waiting_times_with_abandon)\n",
        "    if waiting_times_with_abandon.size > 0 else 0\n",
        ")\n",
        "\n",
        "# Average waiting time (excluding abandoned calls)\n",
        "average_waiting_time_excluding_abandon = (\n",
        "    sum(waiting_times) / len(waiting_times) if waiting_times.size > 0 else 0\n",
        ")\n",
        "\n",
        "# Average server utilization\n",
        "average_server_utilization_s1 = sum(server_utilization_rates_s1) / num_servers_s1\n",
        "average_server_utilization_s2 = sum(server_utilization_rates_s2) / num_servers_s2\n",
        "average_server_utilization_s3 = sum(server_utilization_rates_s3) / num_servers_s3\n",
        "average_server_utilization = (average_server_utilization_s1 * num_calls_s1 / num_calls\n",
        "                              + average_server_utilization_s2 * num_calls_s2 / num_calls\n",
        "                              + average_server_utilization_s3 * num_calls_s3 / num_calls)\n",
        "\n",
        "# Abandoned calls\n",
        "abandoned_calls = abandon_call_count\n",
        "\n",
        "# Abandoned calls rate\n",
        "abandoned_calls_rate = (abandon_call_count / num_calls) * 100\n",
        "\n",
        "# Abandoned calls\n",
        "abandoned_calls_s1 = abandon_call_count_s1\n",
        "# Abandoned calls\n",
        "abandoned_calls_s2 = abandon_call_count_s2\n",
        "# Abandoned calls\n",
        "abandoned_calls_s3 = abandon_call_count_s3\n",
        "\n",
        "# Abandoned calls rate\n",
        "abandoned_calls_rate_s1 = (abandon_call_count_s1 / num_calls_s1) * 100\n",
        "# Abandoned calls rate\n",
        "abandoned_calls_rate_s2 = (abandon_call_count_s2 / num_calls_s2) * 100\n",
        "# Abandoned calls rate\n",
        "abandoned_calls_rate_s3 = (abandon_call_count_s3 / num_calls_s3) * 100\n",
        "\n",
        "# Display Metrics\n",
        "print(\"Simulation Metrics:\")\n",
        "print(f\"1. Average Waiting Time (Including Abandoned Calls): {average_waiting_time_including_abandon:.2f} minutes\")\n",
        "print(f\"2. Average Waiting Time (Excluding Abandoned Calls): {average_waiting_time_excluding_abandon:.2f} minutes\")\n",
        "\n",
        "print(f\"3. Time-Average Server Utilization: {average_server_utilization:.2f}%\")\n",
        "print(f\"  3a. Average Server Utilization from 0600-1000: {average_server_utilization_s1:.2f}%\")\n",
        "print(f\"  3a. Average Server Utilization from 1000-1800: {average_server_utilization_s2:.2f}%\")\n",
        "print(f\"  3a. Average Server Utilization from 1800-2200: {average_server_utilization_s3:.2f}%\")\n",
        "\n",
        "print(f\"4. Number of Abandoned Calls: {abandoned_calls}\")\n",
        "print(f\"  4a. Number of Abandoned Calls from 0600-1000: {abandoned_calls_s1}\")\n",
        "print(f\"  4b. Number of Abandoned Calls from 1000-1800: {abandoned_calls_s2}\")\n",
        "print(f\"  4c. Number of Abandoned Calls from 1800-2200: {abandoned_calls_s3}\")\n",
        "print(f\"5. Abandoned Calls Rate: {abandoned_calls_rate:.2f}%\")\n",
        "print(f\"  5a. Abandoned Calls Rate from 0600-1000: {abandoned_calls_rate_s1:.2f}%\")\n",
        "print(f\"  5b. Abandoned Calls Rate from 1000-1800: {abandoned_calls_rate_s2:.2f}%\")\n",
        "print(f\"  5c. Abandoned Calls Rate from 1800-2200: {abandoned_calls_rate_s3:.2f}%\")\n",
        "\n"
      ],
      "metadata": {
        "colab": {
          "base_uri": "https://localhost:8080/"
        },
        "id": "Hk5AKlyOMhSZ",
        "outputId": "a54d047e-ce57-4f81-c736-cbdda4aba1ce"
      },
      "execution_count": 857,
      "outputs": [
        {
          "output_type": "stream",
          "name": "stdout",
          "text": [
            "Simulation Metrics:\n",
            "1. Average Waiting Time (Including Abandoned Calls): 1.54 minutes\n",
            "2. Average Waiting Time (Excluding Abandoned Calls): 0.38 minutes\n",
            "3. Time-Average Server Utilization: 56.66%\n",
            "  3a. Average Server Utilization from 0600-1000: 78.82%\n",
            "  3a. Average Server Utilization from 1000-1800: 52.71%\n",
            "  3a. Average Server Utilization from 1800-2200: 44.20%\n",
            "4. Number of Abandoned Calls: 148\n",
            "  4a. Number of Abandoned Calls from 0600-1000: 124\n",
            "  4b. Number of Abandoned Calls from 1000-1800: 0\n",
            "  4c. Number of Abandoned Calls from 1800-2200: 24\n",
            "5. Abandoned Calls Rate: 14.80%\n",
            "  5a. Abandoned Calls Rate from 0600-1000: 62.00%\n",
            "  5b. Abandoned Calls Rate from 1000-1800: 0.00%\n",
            "  5c. Abandoned Calls Rate from 1800-2200: 16.00%\n"
          ]
        }
      ]
    },
    {
      "cell_type": "code",
      "source": [
        "######"
      ],
      "metadata": {
        "id": "vfNPUxHbPUeJ"
      },
      "execution_count": 858,
      "outputs": []
    },
    {
      "cell_type": "markdown",
      "source": [
        "### Usage ###\n",
        "\n",
        "You can change the default 10* coefficient in the generate_service_time() function to scale the service time length distribution. (e.g. multiply by 10 to increase the average service time length by 10 times.) Also possible to experiment with other distributions for varying results. \\\\\n",
        "If num_calls is changed (from default 1000), must update hourly_calls array distribution such that the sum matches num_calls (or greater). \\\\\n",
        "\n",
        "\n",
        "\n",
        "-------------------------------------------\n",
        "\n",
        "### Scenarios TODO: ###\n",
        "\n",
        "1. Additional agent(s)/server for entire duration \\\\\n",
        "2. Improved agency working efficiency, i.e. lower service time \\\\\n",
        "3. Efficient resource allocation ---> **THIS**. Complete \\\\\n",
        "\n",
        "### Output TODO: ###\n",
        "\n",
        "Graphs requested: \\\\\n",
        "  Interarrival time distribution graph (Gamma CDF) \\\\\n",
        "  Service time distribution graph \\\\\n",
        "\n",
        "  Waiting time scatterplot for all callers \\\\\n",
        "\n",
        "\n"
      ],
      "metadata": {
        "id": "yEjzBdkfPU94"
      }
    },
    {
      "cell_type": "code",
      "source": [],
      "metadata": {
        "id": "zsi9wz0iSR-f"
      },
      "execution_count": 858,
      "outputs": []
    }
  ]
}